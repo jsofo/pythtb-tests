{
 "cells": [
  {
   "cell_type": "markdown",
   "metadata": {},
   "source": [
    "# Graphene toy model"
   ]
  },
  {
   "cell_type": "markdown",
   "metadata": {},
   "source": [
    "We first import a few useful packages and also [pythtb](http://physics.rutgers.edu/pythtb/)."
   ]
  },
  {
   "cell_type": "code",
   "execution_count": 1,
   "metadata": {
    "collapsed": false
   },
   "outputs": [
    {
     "name": "stdout",
     "output_type": "stream",
     "text": [
      "Populating the interactive namespace from numpy and matplotlib\n"
     ]
    }
   ],
   "source": [
    "import warnings\n",
    "warnings.filterwarnings(\"ignore\", category=FutureWarning)\n",
    "import pythtb as tb\n",
    "import numpy as np\n",
    "import pylab as pl\n",
    "%pylab inline"
   ]
  },
  {
   "cell_type": "markdown",
   "metadata": {},
   "source": [
    "Now define the lattice vectors, the coordinates of the orbitals, and define the graphene model."
   ]
  },
  {
   "cell_type": "code",
   "execution_count": 2,
   "metadata": {
    "collapsed": true
   },
   "outputs": [],
   "source": [
    "lat=[[1.0,0.0],[0.5,np.sqrt(3.0)/2.0]]\n",
    "orb=[[1./3.,1./3.],[2./3.,2./3.]]\n",
    "tbg=tb.tb_model(2,2,lat,orb)"
   ]
  },
  {
   "cell_type": "markdown",
   "metadata": {},
   "source": [
    "We now set the model parameters: onsite energies and hoppings."
   ]
  },
  {
   "cell_type": "code",
   "execution_count": 3,
   "metadata": {
    "collapsed": false
   },
   "outputs": [],
   "source": [
    "delta=0.0\n",
    "t=-1.0\n",
    "#\n",
    "tbg.set_onsite([-delta,delta])\n",
    "tbg.set_hop(t,0,1,[0,0])\n",
    "tbg.set_hop(t,1,0,[1,0])\n",
    "tbg.set_hop(t,1,0,[0,1])"
   ]
  },
  {
   "cell_type": "markdown",
   "metadata": {},
   "source": [
    "We can get a printout of our model."
   ]
  },
  {
   "cell_type": "code",
   "execution_count": 4,
   "metadata": {
    "collapsed": false
   },
   "outputs": [
    {
     "name": "stdout",
     "output_type": "stream",
     "text": [
      "---------------------------------------\n",
      "report of tight-binding model\n",
      "---------------------------------------\n",
      "k-space dimension           = 2\n",
      "r-space dimension           = 2\n",
      "number of spin components   = 1\n",
      "periodic directions         = [0, 1]\n",
      "number of orbitals          = 2\n",
      "number of electronic states = 2\n",
      "lattice vectors:\n",
      " #  0  ===>  [     1.0 ,     0.0 ]\n",
      " #  1  ===>  [     0.5 ,   0.866 ]\n",
      "positions of orbitals:\n",
      " #  0  ===>  [  0.3333 ,  0.3333 ]\n",
      " #  1  ===>  [  0.6667 ,  0.6667 ]\n",
      "site energies:\n",
      " #  0  ===>      -0.0\n",
      " #  1  ===>       0.0\n",
      "hoppings:\n",
      "<  0 | H |  1 + [  0 ,  0 ] >     ===>     -1.0 +     0.0 i\n",
      "<  1 | H |  0 + [  1 ,  0 ] >     ===>     -1.0 +     0.0 i\n",
      "<  1 | H |  0 + [  0 ,  1 ] >     ===>     -1.0 +     0.0 i\n",
      "\n"
     ]
    }
   ],
   "source": [
    "tbg.display()"
   ]
  },
  {
   "cell_type": "markdown",
   "metadata": {},
   "source": [
    "Now we define the k-points where we are going to claculate the bands and print the result."
   ]
  },
  {
   "cell_type": "code",
   "execution_count": 5,
   "metadata": {
    "collapsed": false
   },
   "outputs": [
    {
     "name": "stdout",
     "output_type": "stream",
     "text": [
      "---------------------------------------\n",
      "report of k-point path\n",
      "---------------------------------------\n",
      "Path runs over 201 k-points connecting:\n",
      "[1.0, 0.0]\n",
      "[0.0, 1.0]\n",
      "\n"
     ]
    }
   ],
   "source": [
    "path=[[1.0,0.0],[0.0,1.0]]\n",
    "kpts=tb.k_path(path,200)\n",
    "print '---------------------------------------'\n",
    "print 'report of k-point path'\n",
    "print '---------------------------------------'\n",
    "print 'Path runs over',len(kpts),'k-points connecting:'\n",
    "for k in path:\n",
    "    print k\n",
    "print\n"
   ]
  },
  {
   "cell_type": "markdown",
   "metadata": {},
   "source": [
    "Now we are ready to do the actual calculation"
   ]
  },
  {
   "cell_type": "code",
   "execution_count": 6,
   "metadata": {
    "collapsed": false
   },
   "outputs": [
    {
     "name": "stderr",
     "output_type": "stream",
     "text": [
      "C:\\Users\\sofo\\Anaconda3\\envs\\pythtb\\lib\\site-packages\\pythtb.py:1010: FutureWarning: comparison to `None` will result in an elementwise object comparison in the future.\n",
      "  if not (k_list==None):\n",
      "C:\\Users\\sofo\\Anaconda3\\envs\\pythtb\\lib\\site-packages\\pythtb.py:855: FutureWarning: comparison to `None` will result in an elementwise object comparison in the future.\n",
      "  if k_input!=None:\n"
     ]
    }
   ],
   "source": [
    "evals=tbg.solve_all(kpts)"
   ]
  },
  {
   "cell_type": "markdown",
   "metadata": {},
   "source": [
    "We now plot the band structure."
   ]
  },
  {
   "cell_type": "code",
   "execution_count": 7,
   "metadata": {
    "collapsed": false,
    "scrolled": true
   },
   "outputs": [
    {
     "data": {
      "image/png": "[encoded data removed]",
      "text/plain": [
       "<matplotlib.figure.Figure at 0xa767630>"
      ]
     },
     "metadata": {},
     "output_type": "display_data"
    }
   ],
   "source": [
    "fig=pl.figure()\n",
    "# plot first band\n",
    "pl.plot(evals[0])\n",
    "# plot second band\n",
    "pl.plot(evals[1])\n",
    "# put title on top\n",
    "pl.title(\"Graphene band structure\")\n",
    "pl.xlabel(\"Path in k-space\")\n",
    "pl.ylabel(\"Band energy\")\n",
    "pl.show()"
   ]
  },
  {
   "cell_type": "markdown",
   "metadata": {},
   "source": [
    "The bands are ploted in a path that goes $\\Gamma\\rightarrow K\\rightarrow M\\rightarrow K\\rightarrow \\Gamma$"
   ]
  }
 ],
 "metadata": {
  "kernelspec": {
   "display_name": "Python 2",
   "language": "python",
   "name": "python2"
  },
  "language_info": {
   "codemirror_mode": {
    "name": "ipython",
    "version": 2
   },
   "file_extension": ".py",
   "mimetype": "text/x-python",
   "name": "python",
   "nbconvert_exporter": "python",
   "pygments_lexer": "ipython2",
   "version": "2.7.10"
  }
 },
 "nbformat": 4,
 "nbformat_minor": 0
}
